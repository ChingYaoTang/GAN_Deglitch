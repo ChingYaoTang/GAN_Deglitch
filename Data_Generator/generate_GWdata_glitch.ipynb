{
 "cells": [
  {
   "cell_type": "code",
   "execution_count": 1,
   "metadata": {},
   "outputs": [
    {
     "name": "stderr",
     "output_type": "stream",
     "text": [
      "/anaconda3/envs/anacondapy2/lib/python2.7/site-packages/h5py/__init__.py:36: FutureWarning: Conversion of the second argument of issubdtype from `float` to `np.floating` is deprecated. In future, it will be treated as `np.float64 == np.dtype(float).type`.\n",
      "  from ._conv import register_converters as _register_converters\n",
      "PyCBC.libutils: pkg-config call failed, setting NO_PKGCONFIG=1\n"
     ]
    }
   ],
   "source": [
    "import h5py \n",
    "import pylab\n",
    "import numpy as np\n",
    "import timeit\n",
    "import os\n",
    "import matplotlib.pyplot as plt\n",
    "\n",
    "from pycbc.waveform import get_td_waveform\n",
    "from pycbc.detector import Detector\n",
    "\n",
    "import pycbc.noise\n",
    "import pycbc.psd"
   ]
  },
  {
   "cell_type": "code",
   "execution_count": 2,
   "metadata": {},
   "outputs": [],
   "source": [
    "fs = 4096 #sample rate\n",
    "f_low = 30 #GW數據的minimum freq\n",
    "apx = 'IMRPhenomD' #近似法\n",
    "detector_name = 'L1' #選取模擬的detector\n",
    "interval_duration = 64 #數據時間長\n",
    "lenT = int(fs*interval_duration) #總數據點數\n",
    "minpeak = 3.126246936618704e-21*3 #inc=pi/2, coa=pi/2, m1=m2=1.4 #1.209761294218286e-20\n",
    "data_dir = '/Volumes/Mac/GW_glitch/' #存放模擬數據的資料夾"
   ]
  },
  {
   "cell_type": "markdown",
   "metadata": {},
   "source": [
    "# Simulate glitch"
   ]
  },
  {
   "cell_type": "code",
   "execution_count": 3,
   "metadata": {},
   "outputs": [],
   "source": [
    "f_psdphase = h5py.File('./glitch_psd_with_phase_L1','r') #讀取glitch的psd\n",
    "psd_g_L1 = f_psdphase['psd'][...].copy()\n",
    "Phase_g_L1 = f_psdphase['phase'][...].copy()\n",
    "fs_g_L1 = pycbc.types.frequencyseries.FrequencySeries(psd_g_L1, 1) #將type從array轉為FrequencySeries\n",
    "f_psdphase.close()"
   ]
  },
  {
   "cell_type": "code",
   "execution_count": 4,
   "metadata": {},
   "outputs": [],
   "source": [
    "def glitch_generator():\n",
    "    fs_g_L1_s = pycbc.noise.gaussian.frequency_noise_from_psd(fs_g_L1) #模擬glitch\n",
    "    Hn_g_L1_oneside_s = np.sqrt(fs_g_L1_s/2)*fs * np.exp(1j*Phase_g_L1)\n",
    "    Hn_g_L1_s = np.concatenate((Hn_g_L1_oneside_s, Hn_g_L1_oneside_s[1:][::-1])) #轉為two-side psd\n",
    "    glitch_L1_s = np.fft.ifft(Hn_g_L1_s, n=fs) #轉換回時域\n",
    "    return np.real(glitch_L1_s)"
   ]
  },
  {
   "cell_type": "markdown",
   "metadata": {},
   "source": [
    "# Generate GW data with glitch"
   ]
  },
  {
   "cell_type": "code",
   "execution_count": 5,
   "metadata": {},
   "outputs": [],
   "source": [
    "def my_random_homo_2Dsphere():\n",
    "    check = 1\n",
    "    \n",
    "    while check:\n",
    "        x = np.random.rand(3)*2-1 #產生隨機xyz座標參數\n",
    "        if np.dot(x,x)<1: #取單位圓內座標\n",
    "            check=0\n",
    "    \n",
    "    r = np.sqrt(np.dot(x,x)) #計算長度r=sqrt(x^2+y^2+z^2)\n",
    "    r_xy = np.sqrt(np.dot(x[:-1],x[:-1])) #計算r*sin(theta)=sqrt(x^2+y^2)\n",
    "    theta = np.arccos(x[2]/r) #因為r*cos(theta)=z, 所以theta=arccos(z/r)\n",
    "    phi = np.arccos(x[0]/r_xy) #因為r*sin(theta)*cos(phi)=x, 所以phi=arccos(x/(r*sin(theta)))\n",
    "    \n",
    "    return theta, phi"
   ]
  },
  {
   "cell_type": "code",
   "execution_count": 6,
   "metadata": {},
   "outputs": [],
   "source": [
    "def stimulate_ndata_generator(mode, factor1, factor2, n, lamb): #產生n筆的數據，factor1控制White Noise大小，factor2控制glitch大小\n",
    "    start_time = timeit.default_timer()\n",
    "    stop_time_b = timeit.default_timer()\n",
    "    \n",
    "    f = h5py.File(data_dir+'{}_{}/{}/{}_{}_waveform.h5'.format(factor1, factor2, mode, lamb, n),'a')\n",
    "    \n",
    "    Nlist = np.random.poisson(lamb,size=(n,)) #每筆數據的glitch數目\n",
    "    for m in range(n):\n",
    "        datam = f.create_group('data{:0>4d}'.format(m+1))\n",
    "        #generate GW\n",
    "        source_distance=1\n",
    "        m1 = np.random.rand(1)[0]*1.6+1.4\n",
    "        m2 = np.random.rand(1)[0]*1.6+1.4\n",
    "        inc,coa = my_random_homo_2Dsphere()\n",
    "        coa = coa + np.pi/2\n",
    "        hp, hc = get_td_waveform(approximant=apx,\n",
    "                             distance=source_distance,\n",
    "                             mass1=m1,\n",
    "                             mass2=m2,\n",
    "                             spin1z=0,\n",
    "                             spin2z=0,\n",
    "                             inclination=inc,\n",
    "                             coa_phase=coa,\n",
    "                             delta_t=1.0/fs,\n",
    "                             f_lower=f_low)\n",
    "        det = Detector(detector_name)\n",
    "        # Choose a GPS end time, sky location, and polarization phase for the merger\n",
    "        # NOTE: Right ascension and polarization phase runs from 0 to 2pi\n",
    "        # Declination runs from pi/2. to -pi/2 with the poles at pi/2. and -pi/2.\n",
    "        declination, right_ascension = my_random_homo_2Dsphere()\n",
    "        declination = declination - np.pi/2.0\n",
    "        polarization = np.random.rand(1)[0]*np.pi*2\n",
    "        \n",
    "        signal = det.project_wave(hp, hc,  right_ascension, declination, polarization)\n",
    "        lenl = len(signal)\n",
    "        signal = signal[int(lenl*0.2):] #去掉GW前面凸起的部分\n",
    "        lenL = len(signal)\n",
    "        \n",
    "        strain_ = np.zeros(lenT+lenL)\n",
    "        gwposition = np.random.randint(lenT)\n",
    "        strain_[gwposition : gwposition+lenL] = signal\n",
    "        strain = strain_[int(0.5*lenL) : int(0.5*lenL)+lenT] #截取中間0~64s 的數據\n",
    "        \n",
    "        gwidx = np.where(strain!=0.)\n",
    "        gwstart = np.min(gwidx) #GW訊號開始\n",
    "        gwend = np.max(gwidx) #GW訊號結束\n",
    "        \n",
    "        #generate WN\n",
    "        noise = np.random.normal(0, minpeak*factor1, lenT)\n",
    "        \n",
    "        data = datam.create_dataset('TS', (3, lenT))\n",
    "        data[0] = strain\n",
    "        data[1] = noise\n",
    "        \n",
    "        #generate glitch\n",
    "        noverlap = 0\n",
    "        if Nlist[m] != 0:\n",
    "            glitch = np.zeros(lenT)\n",
    "            glitchpositions = np.random.randint((lenT-fs-fs/2), size=Nlist[m]) \n",
    "            #為了之後spec要cut掉最後一個time bin，所以只允許在(0s, lenTs-0.5s)的範圍\n",
    "            for glitchposition in glitchpositions:\n",
    "                mult = np.random.rand()*7+3\n",
    "                glitch[glitchposition : glitchposition+fs] += glitch_generator()/60/factor2*minpeak*factor1*mult\n",
    "                \n",
    "                if gwstart-fs<=glitchposition<=gwend:\n",
    "                    noverlap+=1\n",
    "            data[2] = glitch \n",
    "        else:\n",
    "            data[2] = np.zeros(lenT)\n",
    "        \n",
    "        parameter=[]\n",
    "        parameter.append(m1)\n",
    "        parameter.append(m2)\n",
    "        parameter.append(inc)\n",
    "        parameter.append(coa)\n",
    "        parameter.append(declination)\n",
    "        parameter.append(right_ascension)\n",
    "        parameter.append(polarization)\n",
    "        parameter.append(Nlist[m])\n",
    "        parameter.append(noverlap)\n",
    "        datam.create_dataset('parameter', data=np.array(parameter)) #紀錄GW的parameter\n",
    "        if (m+1)%500==0:\n",
    "            stop_time_a = timeit.default_timer()\n",
    "            print m+1, 'th data has done, duration(s) =', stop_time_a - stop_time_b\n",
    "            stop_time_b = stop_time_a*1\n",
    "            \n",
    "    stop_time_a = timeit.default_timer()\n",
    "    print 'job finish'\n",
    "    print ' total duration(s) =', stop_time_a - start_time\n",
    "    f.close()\n",
    "    "
   ]
  },
  {
   "cell_type": "code",
   "execution_count": 7,
   "metadata": {},
   "outputs": [
    {
     "name": "stdout",
     "output_type": "stream",
     "text": [
      "500 th data has done, duration(s) = 1795.40550208\n",
      "1000 th data has done, duration(s) = 3198.59746194\n",
      "1500 th data has done, duration(s) = 1794.91632605\n",
      "2000 th data has done, duration(s) = 1735.91880798\n",
      "2500 th data has done, duration(s) = 1738.02089691\n",
      "3000 th data has done, duration(s) = 1781.42162108\n",
      "3500 th data has done, duration(s) = 1762.02469492\n",
      "4000 th data has done, duration(s) = 1702.84840608\n",
      "4500 th data has done, duration(s) = 1735.47180009\n",
      "5000 th data has done, duration(s) = 1807.38214588\n",
      "5500 th data has done, duration(s) = 1754.39397693\n",
      "6000 th data has done, duration(s) = 1725.98503709\n",
      "6500 th data has done, duration(s) = 1775.70567703\n",
      "7000 th data has done, duration(s) = 1764.44723296\n",
      "7500 th data has done, duration(s) = 1762.22597289\n",
      "8000 th data has done, duration(s) = 1830.40617609\n",
      "8500 th data has done, duration(s) = 1769.01529193\n",
      "9000 th data has done, duration(s) = 1726.64454103\n",
      "job finish\n",
      " total duration(s) = 33160.8651719\n"
     ]
    }
   ],
   "source": [
    "stimulate_ndata_generator('train', 1, 1, 9000, 2)"
   ]
  },
  {
   "cell_type": "code",
   "execution_count": null,
   "metadata": {},
   "outputs": [],
   "source": []
  }
 ],
 "metadata": {
  "kernelspec": {
   "display_name": "Python 2",
   "language": "python",
   "name": "python2"
  },
  "language_info": {
   "codemirror_mode": {
    "name": "ipython",
    "version": 2
   },
   "file_extension": ".py",
   "mimetype": "text/x-python",
   "name": "python",
   "nbconvert_exporter": "python",
   "pygments_lexer": "ipython2",
   "version": "2.7.15"
  }
 },
 "nbformat": 4,
 "nbformat_minor": 4
}
