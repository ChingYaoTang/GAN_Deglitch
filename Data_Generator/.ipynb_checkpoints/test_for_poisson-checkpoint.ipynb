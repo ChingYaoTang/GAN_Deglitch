{
 "cells": [
  {
   "cell_type": "code",
   "execution_count": 1,
   "metadata": {},
   "outputs": [],
   "source": [
    "import numpy as np\n",
    "import matplotlib.pyplot as plt"
   ]
  },
  {
   "cell_type": "code",
   "execution_count": 60,
   "metadata": {},
   "outputs": [],
   "source": [
    "def N(lam,num):\n",
    "    Ni = np.random.poisson(lam,size=(num,1))\n",
    "    return np.sum([np.mean(Ni[i]) for i in range(num)])"
   ]
  },
  {
   "cell_type": "code",
   "execution_count": 66,
   "metadata": {},
   "outputs": [],
   "source": [
    "Nlist = np.array([N(1,200) for i in range(10000)])"
   ]
  },
  {
   "cell_type": "code",
   "execution_count": 69,
   "metadata": {},
   "outputs": [
    {
     "data": {
      "text/plain": [
       "200.57277724"
      ]
     },
     "execution_count": 69,
     "metadata": {},
     "output_type": "execute_result"
    }
   ],
   "source": [
    "np.var(Nlist)"
   ]
  },
  {
   "cell_type": "code",
   "execution_count": 68,
   "metadata": {},
   "outputs": [
    {
     "data": {
      "text/plain": [
       "<function matplotlib.pyplot.show>"
      ]
     },
     "execution_count": 68,
     "metadata": {},
     "output_type": "execute_result"
    },
    {
     "data": {
      "image/png": "[encoded data removed]",
      "text/plain": [
       "<Figure size 432x288 with 1 Axes>"
      ]
     },
     "metadata": {},
     "output_type": "display_data"
    }
   ],
   "source": [
    "count, bins, ignored = plt.hist(Nlist, normed=True)\n",
    "plt.show"
   ]
  },
  {
   "cell_type": "code",
   "execution_count": 3,
   "metadata": {},
   "outputs": [],
   "source": [
    "def TF(a,b):\n",
    "    if a==b: return 1\n",
    "    else: return 0"
   ]
  },
  {
   "cell_type": "code",
   "execution_count": 4,
   "metadata": {},
   "outputs": [
    {
     "data": {
      "text/plain": [
       "71"
      ]
     },
     "execution_count": 4,
     "metadata": {},
     "output_type": "execute_result"
    }
   ],
   "source": [
    "a = np.random.poisson(1,size=(200,1))\n",
    "b = np.random.poisson(1,size=(200,1))\n",
    "np.sum([TF(a[i],b[i]) for i in range(200)])"
   ]
  },
  {
   "cell_type": "code",
   "execution_count": 88,
   "metadata": {},
   "outputs": [
    {
     "data": {
      "text/plain": [
       "[<matplotlib.lines.Line2D at 0x10fe99290>]"
      ]
     },
     "execution_count": 88,
     "metadata": {},
     "output_type": "execute_result"
    },
    {
     "data": {
      "image/png": "[encoded data removed]",
      "text/plain": [
       "<Figure size 432x288 with 1 Axes>"
      ]
     },
     "metadata": {},
     "output_type": "display_data"
    }
   ],
   "source": [
    "plt.plot(a-b,'.')"
   ]
  },
  {
   "cell_type": "code",
   "execution_count": 9,
   "metadata": {},
   "outputs": [],
   "source": [
    "a = np.random.poisson(1,size=(200,))"
   ]
  },
  {
   "cell_type": "code",
   "execution_count": 16,
   "metadata": {},
   "outputs": [
    {
     "data": {
      "text/plain": [
       "array([1, 0, 2, 0, 0, 0, 0, 0, 0, 0, 1, 2, 0, 1, 0, 3, 0, 0, 0, 0, 2, 0,\n",
       "       1, 0, 0, 3, 0, 4, 0, 2, 0, 0, 1, 1, 0, 4, 1, 0, 2, 0, 3, 1, 0, 1,\n",
       "       3, 0, 3, 1, 2, 0, 4, 2, 1, 0, 2, 0, 2, 0, 1, 0, 2, 1, 1, 0, 0, 1,\n",
       "       1, 0, 0, 1, 0, 2, 0, 0, 0, 0, 0, 1, 2, 1, 0, 0, 1, 1, 1, 1, 1, 0,\n",
       "       0, 1, 0, 3, 0, 2, 0, 1, 0, 0, 0, 1, 1, 0, 0, 0, 1, 1, 2, 0, 4, 1,\n",
       "       1, 2, 4, 1, 1, 2, 0, 0, 0, 1, 1, 1, 1, 1, 1, 1, 0, 1, 1, 1, 0, 0,\n",
       "       0, 0, 0, 0, 2, 0, 2, 0, 1, 2, 0, 1, 1, 1, 0, 0, 0, 0, 2, 0, 1, 1,\n",
       "       1, 0, 0, 0, 1, 1, 1, 2, 0, 1, 2, 1, 0, 2, 1, 0, 1, 0, 1, 1, 1, 1,\n",
       "       1, 1, 1, 3, 2, 1, 0, 2, 1, 1, 2, 0, 1, 2, 2, 1, 1, 2, 1, 1, 0, 0,\n",
       "       1, 0])"
      ]
     },
     "execution_count": 16,
     "metadata": {},
     "output_type": "execute_result"
    }
   ],
   "source": [
    "a"
   ]
  },
  {
   "cell_type": "code",
   "execution_count": null,
   "metadata": {},
   "outputs": [],
   "source": []
  }
 ],
 "metadata": {
  "kernelspec": {
   "display_name": "Python 2",
   "language": "python",
   "name": "python2"
  },
  "language_info": {
   "codemirror_mode": {
    "name": "ipython",
    "version": 2
   },
   "file_extension": ".py",
   "mimetype": "text/x-python",
   "name": "python",
   "nbconvert_exporter": "python",
   "pygments_lexer": "ipython2",
   "version": "2.7.15"
  }
 },
 "nbformat": 4,
 "nbformat_minor": 2
}
